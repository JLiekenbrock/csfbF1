{
 "cells": [
  {
   "cell_type": "markdown",
   "metadata": {},
   "source": [
    "# Analyzing Shakespeare\n",
    "\n",
    "## 1.) To get a first idea, run a quick analysis on the text using Unix tools such as wc and grep to answer the following questions:\n",
    "\n",
    "a: wc Shakespeare.txt: 124456 bytes, 901325 lines, 5458199 words\n",
    "\n",
    "b: grep -c -i \"by William Shakespeare\" Shakespeare.txt: 38\n",
    "\n",
    "## 2.)\n",
    "\n",
    "The first part of the pipeline searches all occurences of \"by William Shakespeare\" in Shakespeare.txt.\n",
    "The Parameter -B 6 further includes the 6 lines before the selected pattern.\n",
    "The output of the first part is then matched again with a expression in three pieces:\n",
    "\n",
    "The regex ^$ is denied by the option -e so all empty lines are excluded.\n",
    "The regex tr '\\n' ' ' is used to replace all newlines with a space.\n",
    "The regex sed 's/ -- /\\n/g' is used to replace all double dashes with a newline.\n",
    "\n",
    "The execution involes 4 processes."
   ]
  },
  {
   "cell_type": "markdown",
   "metadata": {},
   "source": []
  },
  {
   "cell_type": "markdown",
   "metadata": {},
   "source": []
  }
 ],
 "metadata": {
  "language_info": {
   "name": "python"
  },
  "orig_nbformat": 4
 },
 "nbformat": 4,
 "nbformat_minor": 2
}
