{
 "cells": [
  {
   "cell_type": "markdown",
   "metadata": {},
   "source": [
    "# Analyzing Shakespeare\n",
    "\n",
    "## 1.) To get a first idea, run a quick analysis on the text using Unix tools such as wc and grep to answer the following questions:\n",
    "\n",
    "a: wc Shakespeare.txt: 124456 bytes, 901325 lines, 5458199 words\n",
    "\n",
    "b: grep -c -i \"by William Shakespeare\" Shakespeare.txt: 38\n",
    "\n",
    "## 2.)\n",
    "\n",
    "The first part of the pipeline searches all occurences of \"by William Shakespeare\" in Shakespeare.txt.\n",
    "The Parameter -B 6 further includes the 6 lines before the selected pattern.\n",
    "The output of the first part is then matched again with a expression in three pieces:\n",
    "\n",
    "The regex ^$ is denied by the option -e so all empty lines are excluded.\n",
    "The regex tr '\\n' ' ' is used to replace all newlines with a space.\n",
    "The regex sed 's/ -- /\\n/g' is used to replace all double dashes with a newline.\n",
    "\n",
    "The execution involes 4 processes.\n",
    "\n",
    "## 3.)\n",
    "a) monotonically_increasing_id => filter\n",
    "b) filter(... isin copyright)\n",
    "c) withColumn when contains \"by William Shakespeare\" lag... \n",
    "d+e) repartition => groupBy => agg\n",
    "\n",
    "<div>\n",
    "<img src=\"DAG.bmp\" width=\"600\"/>\n",
    "</div>"
   ]
  },
  {
   "cell_type": "markdown",
   "metadata": {},
   "source": [
    "## 4.) \n",
    "\n",
    "### Preparations"
   ]
  },
  {
   "cell_type": "code",
   "execution_count": 33,
   "metadata": {},
   "outputs": [],
   "source": [
    "from pyspark.sql import SparkSession\n",
    "from pyspark.sql.functions import monotonically_increasing_id, col, lag, when, desc,split, explode,countDistinct,row_number, max, regexp_replace, last, lower\n",
    "from pyspark.sql.window import Window\n",
    "\n",
    "spark = SparkSession \\\n",
    "    .builder \\\n",
    "    .appName(\"Python Spark SQL basic example\") \\\n",
    "    .getOrCreate()\n",
    "\n",
    "sc = spark.sparkContext"
   ]
  },
  {
   "cell_type": "markdown",
   "metadata": {},
   "source": [
    "### a)"
   ]
  },
  {
   "cell_type": "code",
   "execution_count": 34,
   "metadata": {},
   "outputs": [
    {
     "name": "stdout",
     "output_type": "stream",
     "text": [
      "+--------------------+-----+\n",
      "|               value|rowId|\n",
      "+--------------------+-----+\n",
      "|         THE SONNETS|  246|\n",
      "|by William Shakes...|  248|\n",
      "|                 ...|  252|\n",
      "|  From fairest cr...|  253|\n",
      "|  That thereby be...|  254|\n",
      "|  But as the ripe...|  255|\n",
      "|  His tender heir...|  256|\n",
      "|  But thou contra...|  257|\n",
      "|  Feed'st thy lig...|  258|\n",
      "|  Making a famine...|  259|\n",
      "|  Thy self thy fo...|  260|\n",
      "|  Thou that art n...|  261|\n",
      "|  And only herald...|  262|\n",
      "|  Within thine ow...|  263|\n",
      "|  And tender chur...|  264|\n",
      "|    Pity the worl...|  265|\n",
      "|    To eat the wo...|  266|\n",
      "|                 ...|  269|\n",
      "|  When forty wint...|  270|\n",
      "|  And dig deep tr...|  271|\n",
      "+--------------------+-----+\n",
      "only showing top 20 rows\n",
      "\n"
     ]
    }
   ],
   "source": [
    "df1 = spark.read.text(\"Shakespeare.txt\") \\\n",
    "    .withColumn(\"rowId\", monotonically_increasing_id())  \\\n",
    "    .filter(col(\"rowId\") >245 ) \\\n",
    "    .filter(col(\"value\")!=\"\")\n",
    "\n",
    "df1.show()"
   ]
  },
  {
   "cell_type": "markdown",
   "metadata": {},
   "source": [
    "### b"
   ]
  },
  {
   "cell_type": "code",
   "execution_count": 35,
   "metadata": {},
   "outputs": [
    {
     "name": "stdout",
     "output_type": "stream",
     "text": [
      "+--------------------+-----+\n",
      "|               value|rowId|\n",
      "+--------------------+-----+\n",
      "|<<THIS ELECTRONIC...| 2873|\n",
      "|SHAKESPEARE IS CO...| 2874|\n",
      "|PROVIDED BY PROJE...| 2875|\n",
      "|WITH PERMISSION. ...| 2876|\n",
      "|DISTRIBUTED SO LO...| 2877|\n",
      "|PERSONAL USE ONLY...| 2878|\n",
      "|COMMERCIALLY.  PR...| 2879|\n",
      "|SERVICE THAT CHAR...| 2880|\n",
      "|<<THIS ELECTRONIC...| 2919|\n",
      "|SHAKESPEARE IS CO...| 2920|\n",
      "|PROVIDED BY PROJE...| 2921|\n",
      "|WITH PERMISSION. ...| 2922|\n",
      "|DISTRIBUTED SO LO...| 2923|\n",
      "|PERSONAL USE ONLY...| 2924|\n",
      "|COMMERCIALLY.  PR...| 2925|\n",
      "|SERVICE THAT CHAR...| 2926|\n",
      "|<<THIS ELECTRONIC...| 3521|\n",
      "|SHAKESPEARE IS CO...| 3522|\n",
      "|PROVIDED BY PROJE...| 3523|\n",
      "|WITH PERMISSION. ...| 3524|\n",
      "+--------------------+-----+\n",
      "only showing top 20 rows\n",
      "\n",
      "+--------------------+-----+\n",
      "|               value|rowId|\n",
      "+--------------------+-----+\n",
      "|         THE SONNETS|  246|\n",
      "|by William Shakes...|  248|\n",
      "|                 ...|  252|\n",
      "|  From fairest cr...|  253|\n",
      "|  That thereby be...|  254|\n",
      "|  But as the ripe...|  255|\n",
      "|  His tender heir...|  256|\n",
      "|  But thou contra...|  257|\n",
      "|  Feed'st thy lig...|  258|\n",
      "|  Making a famine...|  259|\n",
      "|  Thy self thy fo...|  260|\n",
      "|  Thou that art n...|  261|\n",
      "|  And only herald...|  262|\n",
      "|  Within thine ow...|  263|\n",
      "|  And tender chur...|  264|\n",
      "|    Pity the worl...|  265|\n",
      "|    To eat the wo...|  266|\n",
      "|                 ...|  269|\n",
      "|  When forty wint...|  270|\n",
      "|  And dig deep tr...|  271|\n",
      "+--------------------+-----+\n",
      "only showing top 20 rows\n",
      "\n"
     ]
    }
   ],
   "source": [
    "copyright = '''<<THIS ELECTRONIC VERSION OF THE COMPLETE WORKS OF WILLIAM\n",
    "SHAKESPEARE IS COPYRIGHT 1990-1993 BY WORLD LIBRARY, INC., AND IS\n",
    "PROVIDED BY PROJECT GUTENBERG ETEXT OF ILLINOIS BENEDICTINE COLLEGE\n",
    "WITH PERMISSION.  ELECTRONIC AND MACHINE READABLE COPIES MAY BE\n",
    "DISTRIBUTED SO LONG AS SUCH COPIES (1) ARE FOR YOUR OR OTHERS\n",
    "PERSONAL USE ONLY, AND (2) ARE NOT DISTRIBUTED OR USED\n",
    "COMMERCIALLY.  PROHIBITED COMMERCIAL DISTRIBUTION INCLUDES BY ANY\n",
    "SERVICE THAT CHARGES FOR DOWNLOAD TIME OR FOR MEMBERSHIP.>>'''\n",
    "\n",
    "copyright = [line for line in copyright.split(\"\\n\")]\n",
    "\n",
    "df1.filter(col(\"value\").isin(copyright)).show()\n",
    "\n",
    "df1=df1.filter(~col(\"value\").isin(copyright))\n",
    "\n",
    "df1.show()"
   ]
  },
  {
   "cell_type": "markdown",
   "metadata": {},
   "source": [
    "### c\n",
    "\n",
    "#### split by title"
   ]
  },
  {
   "cell_type": "code",
   "execution_count": 36,
   "metadata": {},
   "outputs": [
    {
     "name": "stdout",
     "output_type": "stream",
     "text": [
      "+--------------------+-----+--------------------+\n",
      "|               value|rowId|               title|\n",
      "+--------------------+-----+--------------------+\n",
      "|by William Shakes...|31856|SECOND PART OF KI...|\n",
      "|   Dramatis Personae|31860|SECOND PART OF KI...|\n",
      "|  RUMOUR, the Pre...|31862|SECOND PART OF KI...|\n",
      "|  KING HENRY THE ...|31863|SECOND PART OF KI...|\n",
      "|  HENRY, PRINCE O...|31865|SECOND PART OF KI...|\n",
      "|  PRINCE JOHN OF ...|31866|SECOND PART OF KI...|\n",
      "|  PRINCE HUMPHREY...|31867|SECOND PART OF KI...|\n",
      "|  THOMAS, DUKE OF...|31868|SECOND PART OF KI...|\n",
      "|    Sons of Henry IV|31869|SECOND PART OF KI...|\n",
      "|  EARL OF NORTHUM...|31871|SECOND PART OF KI...|\n",
      "|  SCROOP, ARCHBIS...|31872|SECOND PART OF KI...|\n",
      "|        LORD MOWBRAY|31873|SECOND PART OF KI...|\n",
      "|       LORD HASTINGS|31874|SECOND PART OF KI...|\n",
      "|       LORD BARDOLPH|31875|SECOND PART OF KI...|\n",
      "|   SIR JOHN COLVILLE|31876|SECOND PART OF KI...|\n",
      "|  TRAVERS and MOR...|31877|SECOND PART OF KI...|\n",
      "|    Opposites aga...|31878|SECOND PART OF KI...|\n",
      "|     EARL OF WARWICK|31880|SECOND PART OF KI...|\n",
      "|  EARL OF WESTMOR...|31881|SECOND PART OF KI...|\n",
      "|      EARL OF SURREY|31882|SECOND PART OF KI...|\n",
      "+--------------------+-----+--------------------+\n",
      "only showing top 20 rows\n",
      "\n"
     ]
    },
    {
     "data": {
      "text/plain": [
       "38"
      ]
     },
     "execution_count": 36,
     "metadata": {},
     "output_type": "execute_result"
    }
   ],
   "source": [
    "df1 = df1.withColumn(\"title\", \n",
    "        when(col(\"value\").contains(\"by William Shakespeare\"), \n",
    "            lag(col(\"value\"),1).over(Window.orderBy('rowId')))) \\\n",
    "    .withColumn(\"title\", last(\"title\", ignorenulls=True).over(Window.orderBy(\"rowId\")))\\\n",
    "    .dropna()\n",
    "\n",
    "partitions = df1.agg(countDistinct(col(\"title\"))).collect()[0][0]\n",
    "\n",
    "df1=df1.repartition(partitions,\"title\")\n",
    "\n",
    "df1.rdd.getNumPartitions()\n",
    "\n",
    "df1.show()\n",
    "df1.rdd.getNumPartitions()\n"
   ]
  },
  {
   "cell_type": "markdown",
   "metadata": {},
   "source": [
    "### d+e"
   ]
  },
  {
   "cell_type": "markdown",
   "metadata": {},
   "source": [
    "#### additional steps"
   ]
  },
  {
   "cell_type": "code",
   "execution_count": 37,
   "metadata": {},
   "outputs": [
    {
     "name": "stdout",
     "output_type": "stream",
     "text": [
      "+-----+--------------------+--------------------+-----------+------+\n",
      "|rowId|               value|               title|       word|wordId|\n",
      "+-----+--------------------+--------------------+-----------+------+\n",
      "|    1|by William Shakes...|SECOND PART OF KI...|         by|     1|\n",
      "|    1|by William Shakes...|SECOND PART OF KI...|    William|     2|\n",
      "|    1|by William Shakes...|SECOND PART OF KI...|Shakespeare|     3|\n",
      "|    2|   Dramatis Personae|SECOND PART OF KI...|   Dramatis|     4|\n",
      "|    2|   Dramatis Personae|SECOND PART OF KI...|   Personae|     5|\n",
      "|    3|  RUMOUR, the Pre...|SECOND PART OF KI...|     RUMOUR|     6|\n",
      "|    3|  RUMOUR, the Pre...|SECOND PART OF KI...|        the|     7|\n",
      "|    3|  RUMOUR, the Pre...|SECOND PART OF KI...|  Presenter|     8|\n",
      "|    4|  KING HENRY THE ...|SECOND PART OF KI...|       KING|     9|\n",
      "|    4|  KING HENRY THE ...|SECOND PART OF KI...|      HENRY|    10|\n",
      "|    4|  KING HENRY THE ...|SECOND PART OF KI...|        THE|    11|\n",
      "|    4|  KING HENRY THE ...|SECOND PART OF KI...|     FOURTH|    12|\n",
      "|    5|  HENRY, PRINCE O...|SECOND PART OF KI...|      HENRY|    13|\n",
      "|    5|  HENRY, PRINCE O...|SECOND PART OF KI...|     PRINCE|    14|\n",
      "|    5|  HENRY, PRINCE O...|SECOND PART OF KI...|         OF|    15|\n",
      "|    5|  HENRY, PRINCE O...|SECOND PART OF KI...|      WALES|    16|\n",
      "|    5|  HENRY, PRINCE O...|SECOND PART OF KI...| afterwards|    17|\n",
      "|    5|  HENRY, PRINCE O...|SECOND PART OF KI...|      HENRY|    18|\n",
      "|    6|  PRINCE JOHN OF ...|SECOND PART OF KI...|     PRINCE|    19|\n",
      "|    6|  PRINCE JOHN OF ...|SECOND PART OF KI...|       JOHN|    20|\n",
      "+-----+--------------------+--------------------+-----------+------+\n",
      "only showing top 20 rows\n",
      "\n"
     ]
    }
   ],
   "source": [
    "df1 = df1.withColumn(\"rowId\", row_number().over(Window.partitionBy(\"title\").orderBy(\"rowId\"))) \\\n",
    "    .select(\"rowId\",\"value\",\"title\", split(\"value\", '\\s+').alias('split')) \\\n",
    "    .select(\"rowId\",\"value\",\"title\",explode(\"split\").alias('word')) \\\n",
    "    .where(col(\"word\") != '') \\\n",
    "    .withColumn(\"word\",regexp_replace(col(\"word\"),\"[^\\w\\s]\", \"\")) \\\n",
    "    .withColumn(\"wordId\", row_number().over(Window.partitionBy(\"title\").orderBy(\"rowId\")))\n",
    "\n",
    "df1.show()"
   ]
  },
  {
   "cell_type": "markdown",
   "metadata": {},
   "source": [
    "## 5"
   ]
  },
  {
   "cell_type": "code",
   "execution_count": 38,
   "metadata": {},
   "outputs": [
    {
     "name": "stdout",
     "output_type": "stream",
     "text": [
      "+--------------------+----------+-----------+\n",
      "|               title|max(rowId)|max(wordId)|\n",
      "+--------------------+----------+-----------+\n",
      "|SECOND PART OF KI...|      3286|      27632|\n",
      "|THE TRAGEDY OF OT...|      3636|      27863|\n",
      "|LOVE'S LABOUR'S LOST|      2832|      22888|\n",
      "|THE FIRST PART OF...|      3082|      25719|\n",
      "|THE TAMING OF THE...|      2776|      22156|\n",
      "| A LOVER'S COMPLAINT|       332|       2575|\n",
      "|THE COMEDY OF ERRORS|      1922|      16202|\n",
      "|THE MERCHANT OF V...|      2740|      22255|\n",
      "|THE TRAGEDY OF AN...|      3851|      26460|\n",
      "|THE SECOND PART O...|      3324|      26784|\n",
      "|THE TRAGEDY OF TI...|      2759|      21635|\n",
      "|         THE SONNETS|      2319|      17747|\n",
      "|           CYMBELINE|      3842|      28792|\n",
      "|KING HENRY THE EI...|      3492|      25815|\n",
      "|         THE TEMPEST|      2442|      17419|\n",
      "| MEASURE FOR MEASURE|      2880|      22874|\n",
      "|    KING RICHARD III|      4161|      31093|\n",
      "|MUCH ADO ABOUT NO...|      2551|      22453|\n",
      "|A MIDSUMMER NIGHT...|      2245|      17233|\n",
      "|THE TRAGEDY OF KI...|      3641|      27511|\n",
      "+--------------------+----------+-----------+\n",
      "only showing top 20 rows\n",
      "\n"
     ]
    }
   ],
   "source": [
    "df1.groupBy(\"title\")\\\n",
    "    .agg(   \n",
    "        max(col(\"rowId\")),\n",
    "        max(col(\"wordId\"))\n",
    "    ).show()"
   ]
  },
  {
   "cell_type": "markdown",
   "metadata": {},
   "source": [
    "## 6"
   ]
  },
  {
   "cell_type": "code",
   "execution_count": 39,
   "metadata": {},
   "outputs": [
    {
     "name": "stdout",
     "output_type": "stream",
     "text": [
      "+--------------------+----------+\n",
      "|               title|max(rowId)|\n",
      "+--------------------+----------+\n",
      "|THE TRAGEDY OF HA...|      4169|\n",
      "|    KING RICHARD III|      4161|\n",
      "|THE TRAGEDY OF CO...|      3916|\n",
      "|THE TRAGEDY OF AN...|      3851|\n",
      "|           CYMBELINE|      3842|\n",
      "|THE HISTORY OF TR...|      3643|\n",
      "|THE TRAGEDY OF KI...|      3641|\n",
      "|THE TRAGEDY OF OT...|      3636|\n",
      "|KING HENRY THE EI...|      3492|\n",
      "|   THE WINTER'S TALE|      3371|\n",
      "|THE SECOND PART O...|      3324|\n",
      "|THE LIFE OF KING ...|      3320|\n",
      "|THE TRAGEDY OF RO...|      3287|\n",
      "|SECOND PART OF KI...|      3286|\n",
      "|THE THIRD PART OF...|      3192|\n",
      "|THE FIRST PART OF...|      3082|\n",
      "|THE FIRST PART OF...|      3062|\n",
      "|KING RICHARD THE ...|      2985|\n",
      "|ALLS WELL THAT EN...|      2958|\n",
      "| MEASURE FOR MEASURE|      2880|\n",
      "+--------------------+----------+\n",
      "only showing top 20 rows\n",
      "\n"
     ]
    }
   ],
   "source": [
    "df1.groupBy(\"title\")\\\n",
    "    .agg(   \n",
    "        max(col(\"rowId\")),\n",
    "    ) \\\n",
    "    .orderBy(desc(\"max(rowId)\")).show()"
   ]
  },
  {
   "cell_type": "markdown",
   "metadata": {},
   "source": [
    "## 7\n",
    "\n",
    "Stopwords are common words that add no meaning to a text.\n",
    "Therefore they are often removend during text mining.\n",
    "A collection of stopword-lists is avaible in this repo:\n",
    "https://github.com/stopwords-iso/stopwords-en/tree/master/raw"
   ]
  },
  {
   "cell_type": "code",
   "execution_count": 40,
   "metadata": {},
   "outputs": [
    {
     "name": "stdout",
     "output_type": "stream",
     "text": [
      "+--------------------+---------+-----+\n",
      "|               title|     word|count|\n",
      "+--------------------+---------+-----+\n",
      "|THE TRAGEDY OF AN...|   antony|  375|\n",
      "|TWELFTH NIGHT; OR...|      sir|  366|\n",
      "|THE TRAGEDY OF JU...|   brutus|  366|\n",
      "|THE TRAGEDY OF OT...|     iago|  362|\n",
      "|THE TRAGEDY OF HA...|      ham|  358|\n",
      "|THE THIRD PART OF...|     king|  343|\n",
      "|THE TRAGEDY OF OT...|  othello|  324|\n",
      "|THE LIFE OF TIMON...|    timon|  306|\n",
      "|         THE SONNETS|      thy|  287|\n",
      "|THE TRAGEDY OF MA...|  macbeth|  283|\n",
      "|THE LIFE OF KING ...|     king|  282|\n",
      "|THE MERRY WIVES O...|     ford|  274|\n",
      "|      AS YOU LIKE IT| rosalind|  264|\n",
      "| MEASURE FOR MEASURE|     duke|  261|\n",
      "|THE TRAGEDY OF AN...|cleopatra|  260|\n",
      "|    KING RICHARD III|     king|  258|\n",
      "|THE TRAGEDY OF AN...|   caesar|  254|\n",
      "|KING RICHARD THE ...|     king|  253|\n",
      "|THE HISTORY OF TR...|  troilus|  245|\n",
      "|THE TRAGEDY OF OT...|   cassio|  243|\n",
      "+--------------------+---------+-----+\n",
      "only showing top 20 rows\n",
      "\n"
     ]
    }
   ],
   "source": [
    "stopwords = spark.read.text(\"stopwords-en.txt\").withColumnRenamed(\"value\", \"word\")\n",
    "\n",
    "df1 = df1.withColumn(\"word\", lower(col(\"word\")))\n",
    "\n",
    "df1=df1.join(stopwords, on='word', how='left_anti')\n",
    "\n",
    "df1.groupBy(\"title\",\"word\").count().sort(desc(\"count\")).show()"
   ]
  },
  {
   "cell_type": "markdown",
   "metadata": {},
   "source": [
    "Obviously the stopwords lexicon wasn't to sensible. Thy is a word that should be removed as well.\n",
    "Research reveals a stopword lexica for middle english might be useful. The python package cltk provides several for older languages...\n",
    "Otherwise there seems to be a small issue with hamlet."
   ]
  },
  {
   "cell_type": "code",
   "execution_count": 41,
   "metadata": {},
   "outputs": [
    {
     "name": "stdout",
     "output_type": "stream",
     "text": [
      "+--------------------+---------+-----+\n",
      "|               title|     word|count|\n",
      "+--------------------+---------+-----+\n",
      "|THE TRAGEDY OF AN...|   antony|  375|\n",
      "|TWELFTH NIGHT; OR...|      sir|  366|\n",
      "|THE TRAGEDY OF JU...|   brutus|  366|\n",
      "|THE TRAGEDY OF OT...|     iago|  362|\n",
      "|THE TRAGEDY OF HA...|      ham|  358|\n",
      "|THE THIRD PART OF...|     king|  343|\n",
      "|THE TRAGEDY OF OT...|  othello|  324|\n",
      "|THE LIFE OF TIMON...|    timon|  306|\n",
      "|THE TRAGEDY OF MA...|  macbeth|  283|\n",
      "|THE LIFE OF KING ...|     king|  282|\n",
      "|THE MERRY WIVES O...|     ford|  274|\n",
      "|      AS YOU LIKE IT| rosalind|  264|\n",
      "| MEASURE FOR MEASURE|     duke|  261|\n",
      "|THE TRAGEDY OF AN...|cleopatra|  260|\n",
      "|    KING RICHARD III|     king|  258|\n",
      "|THE TRAGEDY OF AN...|   caesar|  254|\n",
      "|KING RICHARD THE ...|     king|  253|\n",
      "|THE HISTORY OF TR...|  troilus|  245|\n",
      "|THE TRAGEDY OF OT...|   cassio|  243|\n",
      "|THE THIRD PART OF...|  warwick|  240|\n",
      "+--------------------+---------+-----+\n",
      "only showing top 20 rows\n",
      "\n"
     ]
    }
   ],
   "source": [
    "from cltk.stops.words import Stops\n",
    "\n",
    "stops_obj = Stops(iso_code=\"enm\")\n",
    "\n",
    "stopwords2= stops_obj.get_stopwords()\n",
    "\n",
    "df1 = df1.filter(~col(\"word\").isin(stopwords2))\n",
    "\n",
    "df1.groupBy(\"title\",\"word\").count().sort(desc(\"count\")).show()"
   ]
  },
  {
   "cell_type": "markdown",
   "metadata": {},
   "source": [
    "No more thy!"
   ]
  },
  {
   "cell_type": "markdown",
   "metadata": {},
   "source": [
    "## Extra: Plotting Top-ten word counts for top ten plays"
   ]
  },
  {
   "cell_type": "code",
   "execution_count": 42,
   "metadata": {},
   "outputs": [],
   "source": [
    "top_ten=df1.groupBy(\"title\",\"word\").count().sort(desc(\"count\")).limit(10).select(\"title\").rdd.flatMap(list).collect()"
   ]
  },
  {
   "cell_type": "code",
   "execution_count": 46,
   "metadata": {},
   "outputs": [
    {
     "name": "stdout",
     "output_type": "stream",
     "text": [
      "+--------------------+---------+-----+---+\n",
      "|               title|     word|count|row|\n",
      "+--------------------+---------+-----+---+\n",
      "|THE TRAGEDY OF OT...|     iago|  362|  1|\n",
      "|THE TRAGEDY OF OT...|  othello|  324|  2|\n",
      "|THE TRAGEDY OF OT...|   cassio|  243|  3|\n",
      "|THE TRAGEDY OF OT...|desdemona|  226|  4|\n",
      "|THE TRAGEDY OF OT...|   emilia|  139|  5|\n",
      "|THE TRAGEDY OF OT...| roderigo|  105|  6|\n",
      "|THE TRAGEDY OF OT...|     lord|   91|  7|\n",
      "|THE TRAGEDY OF OT...|     love|   78|  8|\n",
      "|THE TRAGEDY OF OT...|     hath|   66|  9|\n",
      "|THE TRAGEDY OF OT...|   heaven|   60| 10|\n",
      "|THE TRAGEDY OF AN...|   antony|  375|  1|\n",
      "|THE TRAGEDY OF AN...|cleopatra|  260|  2|\n",
      "|THE TRAGEDY OF AN...|   caesar|  254|  3|\n",
      "|THE TRAGEDY OF AN...|enobarbus|  154|  4|\n",
      "|THE TRAGEDY OF AN...| charmian|  104|  5|\n",
      "|THE TRAGEDY OF AN...|    enter|  101|  6|\n",
      "|THE TRAGEDY OF AN...|      sir|   79|  7|\n",
      "|THE TRAGEDY OF AN...|   pompey|   75|  8|\n",
      "|THE TRAGEDY OF AN...|messenger|   65|  9|\n",
      "|THE TRAGEDY OF AN...|     eros|   64| 10|\n",
      "+--------------------+---------+-----+---+\n",
      "only showing top 20 rows\n",
      "\n"
     ]
    }
   ],
   "source": [
    "data = df1.groupBy(\"title\",\"word\").count() \\\n",
    "    .withColumn(\"row\",row_number().over(Window.partitionBy(\"title\").orderBy(col(\"count\").desc()))) \\\n",
    "    .filter(col(\"row\")<=10) \\\n",
    "    .filter(col(\"title\").isin(top_ten))\n",
    "\n",
    "data.show()"
   ]
  },
  {
   "cell_type": "code",
   "execution_count": 44,
   "metadata": {},
   "outputs": [],
   "source": [
    "graphdata = data.toPandas()"
   ]
  },
  {
   "cell_type": "code",
   "execution_count": 47,
   "metadata": {},
   "outputs": [
    {
     "ename": "AttributeError",
     "evalue": "module 'plotly.express' has no attribute 'offline'",
     "output_type": "error",
     "traceback": [
      "\u001b[0;31m---------------------------------------------------------------------------\u001b[0m",
      "\u001b[0;31mAttributeError\u001b[0m                            Traceback (most recent call last)",
      "\u001b[0;32m<ipython-input-47-901a37143fc1>\u001b[0m in \u001b[0;36m<module>\u001b[0;34m\u001b[0m\n\u001b[1;32m      1\u001b[0m \u001b[0;32mimport\u001b[0m \u001b[0mplotly\u001b[0m\u001b[0;34m.\u001b[0m\u001b[0mexpress\u001b[0m \u001b[0;32mas\u001b[0m \u001b[0mpx\u001b[0m\u001b[0;34m\u001b[0m\u001b[0;34m\u001b[0m\u001b[0m\n\u001b[0;32m----> 2\u001b[0;31m \u001b[0mpx\u001b[0m\u001b[0;34m.\u001b[0m\u001b[0moffline\u001b[0m\u001b[0;34m.\u001b[0m\u001b[0minit_notebook_mode\u001b[0m\u001b[0;34m(\u001b[0m\u001b[0;34m)\u001b[0m\u001b[0;34m\u001b[0m\u001b[0;34m\u001b[0m\u001b[0m\n\u001b[0m\u001b[1;32m      3\u001b[0m fig = px.bar(graphdata, x=\"word\", y=\"count\", color= \"title\", facet_row=\"title\",\n\u001b[1;32m      4\u001b[0m     labels = {\n\u001b[1;32m      5\u001b[0m         \u001b[0;34m'count'\u001b[0m\u001b[0;34m:\u001b[0m \u001b[0;34m''\u001b[0m\u001b[0;34m,\u001b[0m\u001b[0;34m\u001b[0m\u001b[0;34m\u001b[0m\u001b[0m\n",
      "\u001b[0;31mAttributeError\u001b[0m: module 'plotly.express' has no attribute 'offline'"
     ]
    }
   ],
   "source": [
    "import plotly\n",
    "plotly.offline.init_notebook_mode()\n",
    "\n",
    "import plotly.express as px\n",
    "fig = px.bar(graphdata, x=\"word\", y=\"count\", color= \"title\", facet_row=\"title\",\n",
    "    labels = {\n",
    "        'count': '',\n",
    "        'title': '',\n",
    "    },\n",
    "    width=1920, height=800)\n",
    "fig.update_xaxes(matches=None)\n",
    "fig.for_each_xaxis(lambda xaxis: xaxis.update(showticklabels=True))\n",
    "fig.for_each_annotation(lambda a: a.update(text=\"\"))\n",
    "fig.show()\n"
   ]
  }
 ],
 "metadata": {
  "interpreter": {
   "hash": "4ab89ba51e9d8b7a5eba3759751cafe3b233e8e716d096834d66cd3a9964ede4"
  },
  "kernelspec": {
   "display_name": "Python 3.8.5 64-bit ('base': conda)",
   "language": "python",
   "name": "python3"
  },
  "language_info": {
   "codemirror_mode": {
    "name": "ipython",
    "version": 3
   },
   "file_extension": ".py",
   "mimetype": "text/x-python",
   "name": "python",
   "nbconvert_exporter": "python",
   "pygments_lexer": "ipython3",
   "version": "3.8.5"
  },
  "orig_nbformat": 4
 },
 "nbformat": 4,
 "nbformat_minor": 2
}
